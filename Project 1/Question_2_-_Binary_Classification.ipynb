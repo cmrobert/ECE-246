{
 "cells": [
  {
   "cell_type": "markdown",
   "metadata": {},
   "source": [
    "# Section \\#1: Centralized Algorithms"
   ]
  },
  {
   "cell_type": "code",
   "execution_count": 1,
   "metadata": {},
   "outputs": [],
   "source": [
    "import numpy as np\n",
    "import matplotlib.pyplot as plt\n",
    "import random\n",
    "import csv\n",
    "from data_load import load\n",
    "import scipy.io as io\n",
    "# Load matplotlib images inline\n",
    "%matplotlib inline\n",
    "# These are important for reloading any code you write in external .py files.\n",
    "# see http://stackoverflow.com/questions/1907993/autoreload-of-modules-in-ipython\n",
    "%load_ext autoreload\n",
    "%autoreload 2"
   ]
  },
  {
   "cell_type": "markdown",
   "metadata": {},
   "source": [
    "## Section \\#1.2: Binary Classification \n",
    "\n",
    "Please follow our instructions in the same order to solve the binary classification problem.\n",
    "\n",
    "Please print out the entire results and codes when completed."
   ]
  },
  {
   "cell_type": "code",
   "execution_count": 2,
   "metadata": {},
   "outputs": [
    {
     "name": "stdout",
     "output_type": "stream",
     "text": [
      "Train data shape:  (5000, 784)\n",
      "Train target shape:  (5000, 1)\n",
      "Test data shape:  (500, 784)\n",
      "Test target shape:  (500, 1)\n"
     ]
    }
   ],
   "source": [
    "\"\"\"\n",
    "Load the dataset from disk and perform preprocessing to prepare it for the linear regression problem.   \n",
    "\"\"\"\n",
    "train = io.loadmat('mnist_train')\n",
    "test = io.loadmat('mnist_test')\n",
    "X_train = train['X_train']\n",
    "y_train = np.transpose(train['y_train'])\n",
    "X_test = test['X_test']\n",
    "y_test = np.transpose(test['y_test'])\n",
    "\n",
    "print('Train data shape: ', X_train.shape)\n",
    "print('Train target shape: ', y_train.shape)\n",
    "print('Test data shape: ',X_test.shape)\n",
    "print('Test target shape: ',y_test.shape)\n"
   ]
  },
  {
   "cell_type": "code",
   "execution_count": 3,
   "metadata": {},
   "outputs": [
    {
     "data": {
      "image/png": "[encoded data removed]",
      "text/plain": [
       "<Figure size 432x288 with 1 Axes>"
      ]
     },
     "metadata": {
      "needs_background": "light"
     },
     "output_type": "display_data"
    },
    {
     "name": "stdout",
     "output_type": "stream",
     "text": [
      "label is 3\n"
     ]
    }
   ],
   "source": [
    "# To Visualize a point in the dataset\n",
    "index = 4000\n",
    "X = np.array(X_train[index], dtype='uint8')\n",
    "X = X.reshape((28, 28))\n",
    "fig = plt.figure()\n",
    "plt.imshow(X, cmap='gray')\n",
    "plt.show()\n",
    "fig.savefig('Sample.pdf')\n",
    "if y_train[index] == 1:\n",
    "    label = 3\n",
    "else:\n",
    "    label = 2\n",
    "print('label is', label)"
   ]
  },
  {
   "cell_type": "markdown",
   "metadata": {},
   "source": [
    "## Train Perceptron\n",
    "In the following cells, you will build Perceptron Algorithm."
   ]
  },
  {
   "cell_type": "code",
   "execution_count": 19,
   "metadata": {},
   "outputs": [
    {
     "name": "stdout",
     "output_type": "stream",
     "text": [
      "Terminated after 1402 iterations.\n"
     ]
    }
   ],
   "source": [
    "N = X_train.shape[0] # Number of data point\n",
    "d = X_train.shape[1] # Number of features\n",
    "loss_hist = []\n",
    "W = np.zeros((d,1))\n",
    "# ================================================================ #\n",
    "# YOUR CODE HERE:\n",
    "# Implement the perceptron Algorithm and compute the number of misclassified points at each training step\n",
    "# ================================================================ #\n",
    "max_iter = N\n",
    "num_updates = 0\n",
    "for ii in range(max_iter):\n",
    "    loss = 0\n",
    "    for idx in range(N):\n",
    "        a = np.dot(W[:, 0], X_train[idx, :])\n",
    "        if np.sign(a) != y_train[idx]:\n",
    "            W[:, 0] += y_train[idx, 0]*X_train[idx]\n",
    "            loss += 1\n",
    "            num_updates += 1\n",
    "    loss_hist.append(loss)\n",
    "    if loss == 0:\n",
    "        print('Terminated after {} iterations.'.format(ii))\n",
    "        break\n",
    "# ================================================================ #\n",
    "# END YOUR CODE HERE\n",
    "# ================================================================ #"
   ]
  },
  {
   "cell_type": "code",
   "execution_count": 20,
   "metadata": {},
   "outputs": [
    {
     "data": {
      "text/plain": [
       "Text(0, 0.5, 'training error')"
      ]
     },
     "execution_count": 20,
     "metadata": {},
     "output_type": "execute_result"
    },
    {
     "data": {
      "image/png": "[encoded data removed]",
      "text/plain": [
       "<Figure size 432x288 with 1 Axes>"
      ]
     },
     "metadata": {
      "needs_background": "light"
     },
     "output_type": "display_data"
    }
   ],
   "source": [
    "plt.plot(loss_hist)\n",
    "plt.xlabel('epoch')\n",
    "plt.ylabel('training error')"
   ]
  },
  {
   "cell_type": "code",
   "execution_count": 22,
   "metadata": {},
   "outputs": [
    {
     "name": "stdout",
     "output_type": "stream",
     "text": [
      "Final accuracy after 5000 iterations: 1.0\n"
     ]
    }
   ],
   "source": [
    "print('Final accuracy after {} iterations: {}'.format(max_iter, 1-loss_hist[-1]/N))"
   ]
  },
  {
   "cell_type": "code",
   "execution_count": 23,
   "metadata": {},
   "outputs": [
    {
     "name": "stdout",
     "output_type": "stream",
     "text": [
      "Squared 2-norm of w = 177865738033.0\n"
     ]
    }
   ],
   "source": [
    "print('Squared 2-norm of w = {}'.format(np.linalg.norm(W)**2))"
   ]
  },
  {
   "cell_type": "markdown",
   "metadata": {},
   "source": [
    "Since the perceptron algorithm reaches 0 loss, it converges and the data is linearly separable."
   ]
  },
  {
   "cell_type": "code",
   "execution_count": 25,
   "metadata": {},
   "outputs": [
    {
     "name": "stdout",
     "output_type": "stream",
     "text": [
      "Acc = 0.966\n"
     ]
    }
   ],
   "source": [
    "# Compute the percentage of misclassified points in the test data for perceptron\n",
    "y_hat = np.sign(X_test@W).astype('int')\n",
    "acc = np.mean(y_hat == y_test)\n",
    "print('Acc = {}'.format(acc))"
   ]
  },
  {
   "cell_type": "code",
   "execution_count": null,
   "metadata": {},
   "outputs": [],
   "source": []
  },
  {
   "cell_type": "markdown",
   "metadata": {},
   "source": [
    "## Train Logistic Regression\n",
    "\n",
    "In the following cells, you will build a logistic regression. You will implement its loss function, then subsequently train it with gradient descent. "
   ]
  },
  {
   "cell_type": "code",
   "execution_count": 26,
   "metadata": {},
   "outputs": [],
   "source": [
    "from Logistic import Logistic"
   ]
  },
  {
   "cell_type": "code",
   "execution_count": 27,
   "metadata": {},
   "outputs": [
    {
     "name": "stdout",
     "output_type": "stream",
     "text": [
      "Loss function= 0.6931471805599454\n",
      "78885.26903007003\n"
     ]
    }
   ],
   "source": [
    "# Complete loss_and_grad function in Logistic.py file and test your results.\n",
    "N,d = X_train.shape\n",
    "logistic = Logistic(d=d, reg_param=0)\n",
    "loss, grad = logistic.loss_and_grad(X_train,y_train)\n",
    "print('Loss function=',loss)\n",
    "print(np.linalg.norm(grad,ord=2)**2)"
   ]
  },
  {
   "cell_type": "code",
   "execution_count": 38,
   "metadata": {},
   "outputs": [
    {
     "data": {
      "image/png": "[encoded data removed]",
      "text/plain": [
       "<Figure size 432x288 with 1 Axes>"
      ]
     },
     "metadata": {
      "needs_background": "light"
     },
     "output_type": "display_data"
    },
    {
     "name": "stdout",
     "output_type": "stream",
     "text": [
      "squared 2-norm of w: 0.00039567594085311586\n",
      "loss: 0.020874384528072554\n"
     ]
    }
   ],
   "source": [
    "# Complete train_LR function in Logisitc.py file\n",
    "loss_history, w = logistic.train_LR(X_train,y_train, eta=1e-6,batch_size=50, num_iters=5000)\n",
    "\n",
    "fig = plt.figure()\n",
    "plt.plot(loss_history)\n",
    "plt.xlabel('iterations')\n",
    "plt.ylabel('Loss function')\n",
    "plt.show()\n",
    "fig.savefig('LR_loss_hist.pdf')\n",
    "print('squared 2-norm of w:', np.linalg.norm(w,ord=2)**2)\n",
    "print('loss:', loss_history[4999])"
   ]
  },
  {
   "cell_type": "code",
   "execution_count": 39,
   "metadata": {},
   "outputs": [
    {
     "data": {
      "text/plain": [
       "Text(0.5, 1.0, 'w')"
      ]
     },
     "execution_count": 39,
     "metadata": {},
     "output_type": "execute_result"
    },
    {
     "data": {
      "image/png": "[encoded data removed]",
      "text/plain": [
       "<Figure size 432x288 with 1 Axes>"
      ]
     },
     "metadata": {
      "needs_background": "light"
     },
     "output_type": "display_data"
    }
   ],
   "source": [
    "plt.imshow(w[1:].reshape((28, 28)), cmap='gray')\n",
    "plt.title('w')"
   ]
  },
  {
   "cell_type": "code",
   "execution_count": 40,
   "metadata": {},
   "outputs": [
    {
     "data": {
      "text/plain": [
       "0.9796"
      ]
     },
     "execution_count": 40,
     "metadata": {},
     "output_type": "execute_result"
    }
   ],
   "source": [
    "# final training accuracy\n",
    "np.mean(logistic.predict(X_train) == (y_train > 0))"
   ]
  },
  {
   "cell_type": "code",
   "execution_count": 41,
   "metadata": {},
   "outputs": [
    {
     "name": "stdout",
     "output_type": "stream",
     "text": [
      "Test error: 0.022\n"
     ]
    }
   ],
   "source": [
    "# Complete predict function in Logisitc.py file and compute the percentage of misclassified points in the test data\n",
    "test_acc = np.mean(logistic.predict(X_test) == (y_test > 0))\n",
    "print('Test error: {:.4}'.format(1-test_acc))"
   ]
  },
  {
   "cell_type": "code",
   "execution_count": 48,
   "metadata": {},
   "outputs": [
    {
     "data": {
      "text/plain": [
       "Text(0, 0.5, 'average testing error')"
      ]
     },
     "execution_count": 48,
     "metadata": {},
     "output_type": "execute_result"
    },
    {
     "data": {
      "image/png": "[encoded data removed]",
      "text/plain": [
       "<Figure size 432x288 with 1 Axes>"
      ]
     },
     "metadata": {
      "needs_background": "light"
     },
     "output_type": "display_data"
    }
   ],
   "source": [
    "Batch = [1, 50 , 100, 300]\n",
    "test_err = np.zeros((len(Batch),1))\n",
    "# ================================================================ #\n",
    "# YOUR CODE HERE:\n",
    "# Train the Logistic regression for different batch size Avergae the test error over 10 times\n",
    "# ================================================================ #\n",
    "for t in range (0,1):\n",
    "    for m in range(0,len(Batch)):\n",
    "        batch_size = Batch[m]\n",
    "        eta = 1e-5\n",
    "        num_iters = 8000 // batch_size\n",
    "        logistic = Logistic(d=d, reg_param=0)\n",
    "        loss_history, w = logistic.train_LR(X_train,y_train, eta=eta,batch_size=batch_size, num_iters=num_iters)\n",
    "        \n",
    "        acc = np.mean(logistic.predict(X_test) == (y_test > 0))\n",
    "        test_err[m, 0] += 0.1*(1-acc)\n",
    "\n",
    "plt.plot(Batch, test_err[:, 0])\n",
    "plt.xlabel('batch size')\n",
    "plt.ylabel('average testing error')\n",
    "# ================================================================ #\n",
    "# END YOUR CODE HERE\n",
    "# ================================================================ #"
   ]
  },
  {
   "cell_type": "code",
   "execution_count": 36,
   "metadata": {},
   "outputs": [
    {
     "name": "stdout",
     "output_type": "stream",
     "text": [
      "Batch size:  1 Error:  [0.0036]\n",
      "Batch size:  50 Error:  [0.002]\n",
      "Batch size:  100 Error:  [0.003]\n",
      "Batch size:  300 Error:  [0.0034]\n"
     ]
    }
   ],
   "source": [
    "for i in range(4):\n",
    "    print('Batch size: ', Batch[i], 'Error: ', test_err[i])"
   ]
  },
  {
   "cell_type": "markdown",
   "metadata": {},
   "source": [
    "Testing error is minimized for a batch size of 50."
   ]
  },
  {
   "cell_type": "code",
   "execution_count": null,
   "metadata": {},
   "outputs": [],
   "source": []
  },
  {
   "cell_type": "markdown",
   "metadata": {},
   "source": [
    "## Train SVM\n",
    "\n",
    "In the following cells, you will build SVM. You will implement its loss function, then subsequently train it with mini-batch gradient descent. You will choose the learning rate of gradient descent to optimize its classification performance. Finally, you will get the best regularization parameter."
   ]
  },
  {
   "cell_type": "code",
   "execution_count": 44,
   "metadata": {},
   "outputs": [],
   "source": [
    "from SVM import SVM"
   ]
  },
  {
   "cell_type": "code",
   "execution_count": 45,
   "metadata": {},
   "outputs": [
    {
     "name": "stdout",
     "output_type": "stream",
     "text": [
      "Loss function= 1.0\n",
      "315541.07612028066\n"
     ]
    }
   ],
   "source": [
    "# Complete loss_and_grad function in SVM.py file and test your results.\n",
    "N,d = X_train.shape\n",
    "svm = SVM(d=d, reg_param=0)\n",
    "loss, grad = svm.loss_and_grad(X_train,y_train)\n",
    "print('Loss function=',loss)\n",
    "print(np.linalg.norm(grad,ord=2)**2)"
   ]
  },
  {
   "cell_type": "code",
   "execution_count": 46,
   "metadata": {},
   "outputs": [
    {
     "data": {
      "image/png": "[encoded data removed]",
      "text/plain": [
       "<Figure size 432x288 with 1 Axes>"
      ]
     },
     "metadata": {
      "needs_background": "light"
     },
     "output_type": "display_data"
    },
    {
     "name": "stdout",
     "output_type": "stream",
     "text": [
      "squared 2-norm of w: 0.0002015896931983999\n",
      "loss: 0.02292531640000014\n"
     ]
    }
   ],
   "source": [
    "# Complete train_svm function in SVM.py file \n",
    "loss_history, w = svm.train_svm(X_train,y_train, eta=1e-6,batch_size=50, num_iters=5000)\n",
    "fig = plt.figure()\n",
    "plt.plot(loss_history)\n",
    "plt.xlabel('iterations')\n",
    "plt.ylabel('Loss function')\n",
    "plt.show()\n",
    "fig.savefig('svm_loss_hist.pdf')\n",
    "print('squared 2-norm of w:', np.linalg.norm(w,ord=2)**2)\n",
    "print('loss:', loss_history[4999])"
   ]
  },
  {
   "cell_type": "code",
   "execution_count": 47,
   "metadata": {},
   "outputs": [
    {
     "name": "stdout",
     "output_type": "stream",
     "text": [
      "Test error: 0.022\n"
     ]
    }
   ],
   "source": [
    "test_acc = np.mean(svm.predict(X_test) == (y_test > 0))\n",
    "print('Test error: {:.4}'.format(1-test_acc))"
   ]
  },
  {
   "cell_type": "code",
   "execution_count": 49,
   "metadata": {},
   "outputs": [
    {
     "data": {
      "text/plain": [
       "Text(0, 0.5, 'average testing error')"
      ]
     },
     "execution_count": 49,
     "metadata": {},
     "output_type": "execute_result"
    },
    {
     "data": {
      "image/png": "[encoded data removed]",
      "text/plain": [
       "<Figure size 432x288 with 1 Axes>"
      ]
     },
     "metadata": {
      "needs_background": "light"
     },
     "output_type": "display_data"
    }
   ],
   "source": [
    "Batch = [1, 50 , 100, 300]\n",
    "test_err = np.zeros((len(Batch),1))\n",
    "# ================================================================ #\n",
    "# YOUR CODE HERE:\n",
    "# Train the SVM for different batch size Avergae the test error over 10 times\n",
    "# ================================================================ #\n",
    "for t in range (0,10):\n",
    "    for m in range(0,len(Batch)):\n",
    "        batch_size = Batch[m]\n",
    "        eta = 1e-5\n",
    "        num_iters = 8000 // batch_size\n",
    "        svm = SVM(d=d, reg_param=0)\n",
    "        loss_history, w = svm.train_svm(X_train,y_train, eta=eta,batch_size=batch_size, num_iters=num_iters)\n",
    "        \n",
    "        acc = np.mean(svm.predict(X_test) == (y_test > 0))\n",
    "        test_err[m, 0] += 0.1*(1-acc)\n",
    "plt.plot(Batch, test_err[:, 0])\n",
    "plt.xlabel('batch size')\n",
    "plt.ylabel('average testing error')\n",
    "# ================================================================ #\n",
    "# END YOUR CODE HERE\n",
    "# ================================================================ #"
   ]
  },
  {
   "cell_type": "code",
   "execution_count": 50,
   "metadata": {},
   "outputs": [
    {
     "name": "stdout",
     "output_type": "stream",
     "text": [
      "Batch size:  1 Error:  [0.0474]\n",
      "Batch size:  50 Error:  [0.0332]\n",
      "Batch size:  100 Error:  [0.0266]\n",
      "Batch size:  300 Error:  [0.0348]\n"
     ]
    }
   ],
   "source": [
    "for i in range(4):\n",
    "    print('Batch size: ', Batch[i], 'Error: ', test_err[i])"
   ]
  },
  {
   "cell_type": "markdown",
   "metadata": {},
   "source": [
    "Testing error is minimized for a batch size of 100."
   ]
  },
  {
   "cell_type": "code",
   "execution_count": null,
   "metadata": {},
   "outputs": [],
   "source": []
  }
 ],
 "metadata": {
  "kernelspec": {
   "display_name": "Python 3",
   "language": "python",
   "name": "python3"
  },
  "language_info": {
   "codemirror_mode": {
    "name": "ipython",
    "version": 3
   },
   "file_extension": ".py",
   "mimetype": "text/x-python",
   "name": "python",
   "nbconvert_exporter": "python",
   "pygments_lexer": "ipython3",
   "version": "3.7.4"
  }
 },
 "nbformat": 4,
 "nbformat_minor": 4
}
