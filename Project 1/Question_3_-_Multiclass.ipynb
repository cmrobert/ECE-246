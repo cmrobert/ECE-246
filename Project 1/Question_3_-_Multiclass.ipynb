{
 "cells": [
  {
   "cell_type": "code",
   "execution_count": 5,
   "metadata": {},
   "outputs": [],
   "source": [
    "import numpy as np\n",
    "import matplotlib.pyplot as plt\n",
    "import random\n",
    "import csv\n",
    "from data_load import load\n",
    "import scipy.io as io\n",
    "# Load matplotlib images inline\n",
    "%matplotlib inline\n",
    "# These are important for reloading any code you write in external .py files.\n",
    "# see http://stackoverflow.com/questions/1907993/autoreload-of-modules-in-ipython\n",
    "%load_ext autoreload\n",
    "%autoreload 2"
   ]
  },
  {
   "cell_type": "markdown",
   "metadata": {},
   "source": [
    "# Section \\#1.3: Multi-Class Logistic Regression and Adaboost \n",
    "\n",
    "Please follow our instructions in the same order to solve the linear regresssion problem.\n",
    "\n",
    "Please print out the entire results and codes when completed."
   ]
  },
  {
   "cell_type": "code",
   "execution_count": 6,
   "metadata": {},
   "outputs": [
    {
     "name": "stdout",
     "output_type": "stream",
     "text": [
      "Train data shape:  (60000, 784)\n",
      "Train target shape:  (60000,)\n",
      "Test data shape:  (10000, 784)\n",
      "Test target shape:  (10000,)\n"
     ]
    }
   ],
   "source": [
    "from data_loadM import load_mnist\n",
    "X_train,X_test,y_train,y_test=load_mnist()\n",
    "print('Train data shape: ', X_train.shape)\n",
    "print('Train target shape: ', y_train.shape)\n",
    "print('Test data shape: ',X_test.shape)\n",
    "print('Test target shape: ',y_test.shape)"
   ]
  },
  {
   "cell_type": "markdown",
   "metadata": {},
   "source": [
    "**ANSWER** The dimension of the training set is: (60000, 784) and the test set is: (10000, 784)."
   ]
  },
  {
   "cell_type": "code",
   "execution_count": 7,
   "metadata": {},
   "outputs": [
    {
     "data": {
      "image/png": "[encoded data removed]",
      "text/plain": [
       "<Figure size 432x288 with 1 Axes>"
      ]
     },
     "metadata": {
      "needs_background": "light"
     },
     "output_type": "display_data"
    },
    {
     "name": "stdout",
     "output_type": "stream",
     "text": [
      "label is 7\n"
     ]
    }
   ],
   "source": [
    "# To Visualize a point in the dataset\n",
    "index = 4000\n",
    "X = np.array(X_train[index], dtype='uint8')\n",
    "X = X.reshape((28, 28))\n",
    "fig = plt.figure()\n",
    "plt.imshow(X, cmap='gray')\n",
    "plt.show()\n",
    "fig.savefig('Sample.pdf')\n",
    "print('label is', y_train[index])"
   ]
  },
  {
   "cell_type": "markdown",
   "metadata": {},
   "source": [
    "## Train Multi-Class Logistic Regression\n",
    "\n",
    "In the following cells, you will build a Multi-Class logistic regression. You will implement its loss function, then subsequently train it with gradient descent. You will implement L1 norm regularization, and choose the best regularization parameter."
   ]
  },
  {
   "cell_type": "code",
   "execution_count": 22,
   "metadata": {},
   "outputs": [],
   "source": [
    "from MLogistic import MLogistic"
   ]
  },
  {
   "cell_type": "code",
   "execution_count": 23,
   "metadata": {},
   "outputs": [
    {
     "name": "stdout",
     "output_type": "stream",
     "text": [
      "Loss function= 2.3025850929939837\n",
      "Frobenius norm of grad= 269.57149388566296\n"
     ]
    }
   ],
   "source": [
    "## Complete loss_and_grad function in MLogistic.py file and test your results.\n",
    "num_classes = len(np.unique(y_train))\n",
    "num_features = X_train.shape[1]\n",
    "\n",
    "logistic = MLogistic(dim=[num_classes,num_features], reg_param=0)\n",
    "loss, grad = logistic.loss_and_grad(X_train[:5000],y_train[:5000])\n",
    "print('Loss function=',loss)\n",
    "print('Frobenius norm of grad=',np.linalg.norm(grad))\n",
    "##"
   ]
  },
  {
   "cell_type": "code",
   "execution_count": 24,
   "metadata": {},
   "outputs": [
    {
     "data": {
      "image/png": "[encoded data removed]",
      "text/plain": [
       "<Figure size 432x288 with 1 Axes>"
      ]
     },
     "metadata": {
      "needs_background": "light"
     },
     "output_type": "display_data"
    },
    {
     "name": "stdout",
     "output_type": "stream",
     "text": [
      "0.013278785268794387\n",
      "0.6371785831753499\n"
     ]
    }
   ],
   "source": [
    "## Complete train_LR function in MLogistic.py file \n",
    "loss_history, w = logistic.train_LR(X_train,y_train, eta=1e-7,batch_size=200, num_iters=1500)\n",
    "fig = plt.figure()\n",
    "plt.plot(loss_history)\n",
    "plt.xlabel('iterations')\n",
    "plt.ylabel('Loss function')\n",
    "plt.show()\n",
    "print(np.linalg.norm(w))\n",
    "print(loss_history[1499])"
   ]
  },
  {
   "cell_type": "markdown",
   "metadata": {},
   "source": [
    "**ANSWER** The final value of the loss function is 0.013 and the value L2 of the weight is 0.637.\n"
   ]
  },
  {
   "cell_type": "code",
   "execution_count": 25,
   "metadata": {},
   "outputs": [
    {
     "name": "stdout",
     "output_type": "stream",
     "text": [
      "60000\n",
      "Train Error: 13.99666666666667\n",
      "10000\n",
      "Test Error: 12.909999999999997\n"
     ]
    }
   ],
   "source": [
    "# ================================================================ #\n",
    "# YOUR CODE HERE:\n",
    "#Complete predict function in MLogistic.py file and compute the trainin error and the test error\n",
    "# ================================================================ #\n",
    "\n",
    "def get_acc(logistic, inputs, target):\n",
    "    preds = logistic.predict(inputs)\n",
    "    acc = 100 * sum(preds.astype(int) == target)/len(target)\n",
    "    return acc\n",
    "\n",
    "print(f\"Train Error: {100 - get_acc(logistic, X_train, y_train)}\")\n",
    "print(f\"Test Error: {100 - get_acc(logistic, X_test, y_test)}\")\n",
    "\n",
    "# ================================================================ #\n",
    "# END YOUR CODE HERE\n",
    "# ================================================================ #\n"
   ]
  },
  {
   "cell_type": "markdown",
   "metadata": {},
   "source": [
    "Note that here the test error is lower than the train error, which is unexpected. We looked into the dataset and noticed that the last $10,000$ samples of the training set (i.e X_train[50000:]) corresponded to X_test, leading to improved performance on the test set."
   ]
  },
  {
   "cell_type": "code",
   "execution_count": 20,
   "metadata": {},
   "outputs": [
    {
     "name": "stdout",
     "output_type": "stream",
     "text": [
      "60000\n",
      "10000\n",
      "60000\n",
      "10000\n",
      "60000\n",
      "10000\n",
      "60000\n",
      "10000\n",
      "60000\n",
      "10000\n",
      "60000\n",
      "10000\n"
     ]
    }
   ],
   "source": [
    "reg = [0,1e-6,1e-3,1e-2,1e-1,1]\n",
    "train_err =np.zeros((len(reg),1))\n",
    "test_err =np.zeros((len(reg),1))\n",
    "# ================================================================ #\n",
    "# YOUR CODE HERE:\n",
    "# complete the following code to plot both the training and test loss in the same plot\n",
    "# for m range from 1 to 10\n",
    "# ================================================================ #\n",
    "for m in range(0,len(reg)):\n",
    "    logistic = MLogistic(dim=[num_classes,num_features], reg_param=reg[m])\n",
    "    loss_history, w = logistic.train_LR(X_train,y_train, eta=1e-7,batch_size=200, num_iters=3000)\n",
    "    train_err[m] = get_acc(logistic, X_train, y_train)\n",
    "    test_err[m] = get_acc(logistic, X_test, y_test)\n",
    "    \n"
   ]
  },
  {
   "cell_type": "code",
   "execution_count": 21,
   "metadata": {},
   "outputs": [
    {
     "data": {
      "text/plain": [
       "Text(0, 0.5, 'Error')"
      ]
     },
     "execution_count": 21,
     "metadata": {},
     "output_type": "execute_result"
    },
    {
     "data": {
      "image/png": "[encoded data removed]",
      "text/plain": [
       "<Figure size 432x288 with 1 Axes>"
      ]
     },
     "metadata": {
      "needs_background": "light"
     },
     "output_type": "display_data"
    }
   ],
   "source": [
    "# Bad naming, here train_err and test_err actually refer to the accuracy\n",
    "plt.plot(100 - train_err, label='train')\n",
    "plt.plot(100 - test_err, label='test')\n",
    "plt.legend()\n",
    "plt.xlabel('Regulartization values')\n",
    "results = list(map(str, reg))\n",
    "plt.xticks(np.arange(len(results)), results)\n",
    "plt.ylabel('Error')\n",
    "\n",
    "# ================================================================ #\n",
    "# END YOUR CODE HERE\n",
    "# ================================================================ #"
   ]
  },
  {
   "cell_type": "markdown",
   "metadata": {},
   "source": [
    "**ANSWER** The regularization value that seems to work best is $0.001$. The minimum value of the test error on the MNIST dataset is around $11.5\\%$. Again, as mentioned earlier, there was overlap between the training and test set, with the data provided, which lead to the unusual instance that the test set error was lower than the training set.\n"
   ]
  },
  {
   "cell_type": "code",
   "execution_count": 7,
   "metadata": {},
   "outputs": [],
   "source": [
    "from sklearn.tree import DecisionTreeClassifier"
   ]
  },
  {
   "cell_type": "code",
   "execution_count": 63,
   "metadata": {},
   "outputs": [],
   "source": [
    "import pdb\n",
    "\n",
    "T = 200\n",
    "N = X_train.shape[0]\n",
    "num_classes = len(np.unique(y_train))\n",
    "num_features = X_train.shape[1]\n",
    "train_err = np.zeros((T,1))\n",
    "test_err = np.zeros((T,1))\n",
    "# ================================================================ #\n",
    "# YOUR CODE HERE:\n",
    "# complete the following code to plot both the training and test loss in the same plot\n",
    "# as a function of number of classifiers T for Adaboost Algorithm. \n",
    "# ================================================================ #\n",
    "\n",
    "#Initialize\n",
    "D = np.ones_like(y_train)/len(y_train)\n",
    "alphas = np.zeros((T,1))\n",
    "classifiers = []\n",
    "errors = np.zeros((T,1))\n",
    "total_test_predictions = np.zeros((10000, 10))\n",
    "total_train_predictions = np.zeros((60000, 10))\n",
    "train_errors = np.zeros((T,1))\n",
    "test_errors = np.zeros((T,1))\n",
    "\n",
    "for t in range(0,T):\n",
    "    #Train decision Tree\n",
    "    tree = DecisionTreeClassifier(max_depth = 4).fit(X_train, y_train, sample_weight = D)\n",
    "    classifiers.append(tree)\n",
    "    \n",
    "    #Compute error\n",
    "    train_predictions = tree.predict(X_train)\n",
    "    errors[t] = np.sum((train_predictions != y_train) * D)\n",
    "    \n",
    "    #Compute \\alpha\n",
    "    alphas[t] = np.log((1 - errors[t])/errors[t]) + np.log(9) #K=10 classes\n",
    "    \n",
    "    #Update weights\n",
    "    D = D * np.exp(alphas[t] * (train_predictions != y_train))\n",
    "    D = D/np.sum(D)\n",
    "    \n",
    "    #Predict using Last t classifiers\n",
    "    test_predictions = classifiers[t].predict(X_test)\n",
    "    total_test_predictions[np.arange(10000), test_predictions] += alphas[t]\n",
    "    final_test_predictions = np.argmax(total_test_predictions, axis=1)\n",
    "    \n",
    "    total_train_predictions[np.arange(60000), train_predictions] += alphas[t]\n",
    "    final_train_predictions = np.argmax(total_train_predictions, axis=1)\n",
    "\n",
    "    #compute test error and train error\n",
    "    train_errors[t] = np.sum(final_train_predictions != y_train)\n",
    "    test_errors[t] = np.sum(final_test_predictions != y_test)\n",
    "\n"
   ]
  },
  {
   "cell_type": "code",
   "execution_count": 66,
   "metadata": {},
   "outputs": [
    {
     "name": "stdout",
     "output_type": "stream",
     "text": [
      "First error: [41.01166667]\n",
      "Last error: [6.20166667]\n"
     ]
    },
    {
     "data": {
      "image/png": "[encoded data removed]",
      "text/plain": [
       "<Figure size 432x288 with 1 Axes>"
      ]
     },
     "metadata": {
      "needs_background": "light"
     },
     "output_type": "display_data"
    }
   ],
   "source": [
    "# Plot test error and train error in the same plot vs T\n",
    "\n",
    "\n",
    "plt.plot(100 * train_errors/len(y_train), marker='o', label='train')\n",
    "plt.plot(100 * test_errors/len(y_test), marker='o', label='test')\n",
    "plt.legend()\n",
    "plt.xlabel('epoch')\n",
    "plt.ylabel('error (percentage)')\n",
    "\n",
    "print(f\"First error: {100 * train_errors[0]/len(y_train)}\")\n",
    "print(f\"Last error: {100 * train_errors[-1]/len(y_train)}\")\n",
    "\n",
    "# ================================================================ #\n",
    "# END YOUR CODE HERE\n",
    "# ================================================================ #"
   ]
  },
  {
   "cell_type": "markdown",
   "metadata": {},
   "source": [
    "**ANSWER** The first error was: 41.01% and the last error was: 6.20%"
   ]
  },
  {
   "cell_type": "code",
   "execution_count": null,
   "metadata": {},
   "outputs": [],
   "source": []
  }
 ],
 "metadata": {
  "kernelspec": {
   "display_name": "Python 3",
   "language": "python",
   "name": "python3"
  },
  "language_info": {
   "codemirror_mode": {
    "name": "ipython",
    "version": 3
   },
   "file_extension": ".py",
   "mimetype": "text/x-python",
   "name": "python",
   "nbconvert_exporter": "python",
   "pygments_lexer": "ipython3",
   "version": "3.7.3"
  }
 },
 "nbformat": 4,
 "nbformat_minor": 4
}
